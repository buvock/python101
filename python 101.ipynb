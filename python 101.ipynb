{
 "cells": [
  {
   "cell_type": "markdown",
   "metadata": {},
   "source": [
    "# Python 101\n",
    "\n",
    "#### Anacaonda (easiest way to install python on windows) - https://www.anaconda.com\n",
    "#### python terminal in the browser - https://www.pythonanywhere.com/"
   ]
  },
  {
   "cell_type": "code",
   "execution_count": 1,
   "metadata": {},
   "outputs": [],
   "source": [
    "# imports\n",
    "import math\n",
    "import random\n",
    "import os\n",
    "import re\n",
    "from datetime import datetime"
   ]
  },
  {
   "cell_type": "code",
   "execution_count": null,
   "metadata": {},
   "outputs": [],
   "source": []
  },
  {
   "cell_type": "markdown",
   "metadata": {},
   "source": [
    "# Datatypes"
   ]
  },
  {
   "cell_type": "code",
   "execution_count": 2,
   "metadata": {},
   "outputs": [],
   "source": [
    "int_variable = 34 # integer/number\n",
    "float_variable = 3.4\n",
    "string_variable = 'some text' # string/text\n",
    "list_variable = [2, 'text', 3, 5]\n",
    "boolean_variable = True # true/false\n",
    "example_tuple = ('this', 'is', 'immutable',)"
   ]
  },
  {
   "cell_type": "code",
   "execution_count": 3,
   "metadata": {},
   "outputs": [
    {
     "name": "stdout",
     "output_type": "stream",
     "text": [
      "{'first': 'jesse', 'last': 'ditto', 'phone': '5555555', 'date': datetime.datetime(2005, 6, 1, 0, 0)}\n"
     ]
    }
   ],
   "source": [
    "# python dictionary\n",
    "super_awesome_dictionary = {\n",
    "    'first': 'jesse',\n",
    "    'last': 'ditto',\n",
    "    'phone': '5555555',\n",
    "    'date': datetime.strptime('Jun 1 2005', '%b %d %Y')\n",
    "}\n",
    "# >3.7 this is now an ordered dictionary by default\n",
    "# prior versions were either unordered or untrusted ordered\n",
    "print(super_awesome_dictionary)"
   ]
  },
  {
   "cell_type": "markdown",
   "metadata": {},
   "source": [
    "# Commenting"
   ]
  },
  {
   "cell_type": "code",
   "execution_count": 4,
   "metadata": {},
   "outputs": [
    {
     "data": {
      "text/plain": [
       "' This is a \\nmulti line comment'"
      ]
     },
     "execution_count": 4,
     "metadata": {},
     "output_type": "execute_result"
    }
   ],
   "source": [
    "# thsi is a single line comment\n",
    "\"\"\" This is a \n",
    "multi line comment\"\"\""
   ]
  },
  {
   "cell_type": "markdown",
   "metadata": {},
   "source": [
    "# Conditional statements"
   ]
  },
  {
   "cell_type": "code",
   "execution_count": 5,
   "metadata": {},
   "outputs": [
    {
     "name": "stdout",
     "output_type": "stream",
     "text": [
      "boolean variable was true\n"
     ]
    }
   ],
   "source": [
    "if boolean_variable:\n",
    "    print('boolean variable was true')"
   ]
  },
  {
   "cell_type": "code",
   "execution_count": 6,
   "metadata": {},
   "outputs": [
    {
     "name": "stdout",
     "output_type": "stream",
     "text": [
      "boolean variable was true\n"
     ]
    }
   ],
   "source": [
    "if boolean_variable is True:\n",
    "    print('boolean variable was true')"
   ]
  },
  {
   "cell_type": "code",
   "execution_count": 7,
   "metadata": {},
   "outputs": [
    {
     "name": "stdout",
     "output_type": "stream",
     "text": [
      "Not false\n"
     ]
    }
   ],
   "source": [
    "if boolean_variable is not False:\n",
    "    print('Not false')"
   ]
  },
  {
   "cell_type": "code",
   "execution_count": 8,
   "metadata": {},
   "outputs": [
    {
     "name": "stdout",
     "output_type": "stream",
     "text": [
      "3 is greater than 2\n"
     ]
    }
   ],
   "source": [
    "if 3 > 2:\n",
    "    print('3 is greater than 2')"
   ]
  },
  {
   "cell_type": "code",
   "execution_count": 9,
   "metadata": {},
   "outputs": [
    {
     "name": "stdout",
     "output_type": "stream",
     "text": [
      "things make sense now\n"
     ]
    }
   ],
   "source": [
    "# if else statement\n",
    "if 3 > 4:\n",
    "    print('thats odd')\n",
    "elif 4 > 3:\n",
    "    print('things make sense now')"
   ]
  },
  {
   "cell_type": "code",
   "execution_count": 10,
   "metadata": {},
   "outputs": [
    {
     "name": "stdout",
     "output_type": "stream",
     "text": [
      "2\n",
      "text\n",
      "3\n",
      "5\n"
     ]
    }
   ],
   "source": [
    "# for loop\n",
    "for i in list_variable:\n",
    "    print(i)"
   ]
  },
  {
   "cell_type": "code",
   "execution_count": 11,
   "metadata": {},
   "outputs": [
    {
     "name": "stdout",
     "output_type": "stream",
     "text": [
      "first: jesse\n",
      "last: ditto\n",
      "phone: 5555555\n",
      "date: 2005-06-01 00:00:00\n"
     ]
    }
   ],
   "source": [
    "# loops through an object's attributes\n",
    "for i in super_awesome_dictionary:\n",
    "    print('{0}: {1}'.format(i, super_awesome_dictionary[i]))"
   ]
  },
  {
   "cell_type": "code",
   "execution_count": 12,
   "metadata": {},
   "outputs": [
    {
     "name": "stdout",
     "output_type": "stream",
     "text": [
      "this\n",
      "is\n",
      "immutable\n"
     ]
    }
   ],
   "source": [
    "for i in example_tuple:\n",
    "    print(i)"
   ]
  },
  {
   "cell_type": "code",
   "execution_count": 13,
   "metadata": {},
   "outputs": [
    {
     "ename": "TypeError",
     "evalue": "'tuple' object does not support item assignment",
     "output_type": "error",
     "traceback": [
      "\u001b[0;31m---------------------------------------------------------------------------\u001b[0m",
      "\u001b[0;31mTypeError\u001b[0m                                 Traceback (most recent call last)",
      "\u001b[0;32m<ipython-input-13-fe6be327f7a5>\u001b[0m in \u001b[0;36m<module>\u001b[0;34m\u001b[0m\n\u001b[0;32m----> 1\u001b[0;31m \u001b[0mexample_tuple\u001b[0m\u001b[0;34m[\u001b[0m\u001b[0;36m1\u001b[0m\u001b[0;34m]\u001b[0m \u001b[0;34m=\u001b[0m \u001b[0;34m'x'\u001b[0m\u001b[0;34m\u001b[0m\u001b[0;34m\u001b[0m\u001b[0m\n\u001b[0m",
      "\u001b[0;31mTypeError\u001b[0m: 'tuple' object does not support item assignment"
     ]
    }
   ],
   "source": [
    "example_tuple[1] = 'x'"
   ]
  },
  {
   "cell_type": "code",
   "execution_count": 14,
   "metadata": {},
   "outputs": [
    {
     "name": "stdout",
     "output_type": "stream",
     "text": [
      "['this', 'is', 'immutable']\n",
      "['this', 2, 'immutable']\n"
     ]
    }
   ],
   "source": [
    "list_from_tuple = list(example_tuple)\n",
    "print(list_from_tuple)\n",
    "list_from_tuple[1] = 2\n",
    "print(list_from_tuple)"
   ]
  },
  {
   "cell_type": "markdown",
   "metadata": {},
   "source": [
    "# some math"
   ]
  },
  {
   "cell_type": "code",
   "execution_count": 15,
   "metadata": {},
   "outputs": [
    {
     "data": {
      "text/plain": [
       "7"
      ]
     },
     "execution_count": 15,
     "metadata": {},
     "output_type": "execute_result"
    }
   ],
   "source": [
    "# addition\n",
    "3+4"
   ]
  },
  {
   "cell_type": "code",
   "execution_count": 16,
   "metadata": {},
   "outputs": [
    {
     "data": {
      "text/plain": [
       "2.0"
      ]
     },
     "execution_count": 16,
     "metadata": {},
     "output_type": "execute_result"
    }
   ],
   "source": [
    "# division\n",
    "6 / 3"
   ]
  },
  {
   "cell_type": "code",
   "execution_count": 17,
   "metadata": {},
   "outputs": [
    {
     "data": {
      "text/plain": [
       "27"
      ]
     },
     "execution_count": 17,
     "metadata": {},
     "output_type": "execute_result"
    }
   ],
   "source": [
    "# multiplication\n",
    "9 * 3"
   ]
  },
  {
   "cell_type": "code",
   "execution_count": 18,
   "metadata": {},
   "outputs": [
    {
     "data": {
      "text/plain": [
       "1"
      ]
     },
     "execution_count": 18,
     "metadata": {},
     "output_type": "execute_result"
    }
   ],
   "source": [
    "# modulus\n",
    "9 % 2"
   ]
  },
  {
   "cell_type": "code",
   "execution_count": 19,
   "metadata": {},
   "outputs": [
    {
     "data": {
      "text/plain": [
       "4.0"
      ]
     },
     "execution_count": 19,
     "metadata": {},
     "output_type": "execute_result"
    }
   ],
   "source": [
    "math.sqrt(16)"
   ]
  },
  {
   "cell_type": "code",
   "execution_count": 20,
   "metadata": {},
   "outputs": [
    {
     "data": {
      "text/plain": [
       "0.9998476951563913"
      ]
     },
     "execution_count": 20,
     "metadata": {},
     "output_type": "execute_result"
    }
   ],
   "source": [
    "math.cos(math.radians(1))"
   ]
  },
  {
   "cell_type": "code",
   "execution_count": 21,
   "metadata": {},
   "outputs": [
    {
     "data": {
      "text/plain": [
       "90.0"
      ]
     },
     "execution_count": 21,
     "metadata": {},
     "output_type": "execute_result"
    }
   ],
   "source": [
    "math.degrees(math.pi/2)  "
   ]
  },
  {
   "cell_type": "code",
   "execution_count": 22,
   "metadata": {},
   "outputs": [],
   "source": [
    "# functions\n",
    "# O(n^2)\n",
    "def bubble_sort(passed_list):\n",
    "    # clone variable to protect data\n",
    "    # must use .copy() class function due to variable by reference\n",
    "    cloned_passed_list = passed_list.copy()\n",
    "    for pass_num in range(len(cloned_passed_list)-1,0,-1):\n",
    "        for i in range(pass_num):\n",
    "            if cloned_passed_list[i]>cloned_passed_list[i+1]:\n",
    "                temp = cloned_passed_list[i]\n",
    "                cloned_passed_list[i] = cloned_passed_list[i+1]\n",
    "                cloned_passed_list[i+1] = temp\n",
    "    return cloned_passed_list"
   ]
  },
  {
   "cell_type": "code",
   "execution_count": 23,
   "metadata": {},
   "outputs": [
    {
     "name": "stdout",
     "output_type": "stream",
     "text": [
      "[23, 211, 241, 162, 211, 46, 302, 16, 360, 268, 190, 101, 208, 72, 100, 233, 83, 386, 16, 168, 204, 180, 42, 232, 290, 323, 178, 369, 87, 55, 205, 159, 110, 333, 141, 134, 252, 377, 224, 299, 236, 262, 251, 16, 151, 336, 189, 100, 58, 380, 118, 379, 126, 122, 40, 220, 309, 47, 31, 248, 110, 346, 214, 325, 360, 91, 323, 314, 367, 351, 176, 55, 278, 366, 203, 262, 13, 156, 382, 317, 348, 366, 24, 285, 85, 60, 90, 269, 229, 259, 335, 271, 135, 12, 85, 94, 373, 361, 53, 47]\n"
     ]
    }
   ],
   "source": [
    "# create list of random numbers\n",
    "random_list = []\n",
    "for x in range(100):\n",
    "    random_list.append(random.randint(1, 400))\n",
    "print(random_list)"
   ]
  },
  {
   "cell_type": "code",
   "execution_count": 24,
   "metadata": {},
   "outputs": [
    {
     "name": "stdout",
     "output_type": "stream",
     "text": [
      "[12, 13, 16, 16, 16, 23, 24, 31, 40, 42, 46, 47, 47, 53, 55, 55, 58, 60, 72, 83, 85, 85, 87, 90, 91, 94, 100, 100, 101, 110, 110, 118, 122, 126, 134, 135, 141, 151, 156, 159, 162, 168, 176, 178, 180, 189, 190, 203, 204, 205, 208, 211, 211, 214, 220, 224, 229, 232, 233, 236, 241, 248, 251, 252, 259, 262, 262, 268, 269, 271, 278, 285, 290, 299, 302, 309, 314, 317, 323, 323, 325, 333, 335, 336, 346, 348, 351, 360, 360, 361, 366, 366, 367, 369, 373, 377, 379, 380, 382, 386]\n",
      "[23, 211, 241, 162, 211, 46, 302, 16, 360, 268, 190, 101, 208, 72, 100, 233, 83, 386, 16, 168, 204, 180, 42, 232, 290, 323, 178, 369, 87, 55, 205, 159, 110, 333, 141, 134, 252, 377, 224, 299, 236, 262, 251, 16, 151, 336, 189, 100, 58, 380, 118, 379, 126, 122, 40, 220, 309, 47, 31, 248, 110, 346, 214, 325, 360, 91, 323, 314, 367, 351, 176, 55, 278, 366, 203, 262, 13, 156, 382, 317, 348, 366, 24, 285, 85, 60, 90, 269, 229, 259, 335, 271, 135, 12, 85, 94, 373, 361, 53, 47]\n"
     ]
    }
   ],
   "source": [
    "# function call\n",
    "sorted_random_list = bubble_sort(random_list)\n",
    "print(sorted_random_list)\n",
    "print(random_list)"
   ]
  },
  {
   "cell_type": "code",
   "execution_count": 25,
   "metadata": {},
   "outputs": [],
   "source": [
    "# classes\n",
    "class pokemon():\n",
    "    \n",
    "    def __init__(self, ctype=None, name=None, size=None):\n",
    "        self.ctype = ctype\n",
    "        self.name = name\n",
    "        self.size = size\n",
    "    \n",
    "    def stats(self):\n",
    "        return f'Type: {self.ctype} | Name: {self.name} | Size: {self.size}'\n",
    "    \n",
    "    def say_hi(self):\n",
    "        return f'My name\\'s {self.name}'\n",
    "    \n",
    "    def give_random_list(self, size=10):\n",
    "        __random_list = []\n",
    "        for x in range(size):\n",
    "            __random_list.append(random.randint(1, 400))\n",
    "        return __random_list"
   ]
  },
  {
   "cell_type": "code",
   "execution_count": 26,
   "metadata": {},
   "outputs": [],
   "source": [
    "ditto = pokemon('Ditto', 'shifty', 'xs')"
   ]
  },
  {
   "cell_type": "code",
   "execution_count": 27,
   "metadata": {},
   "outputs": [
    {
     "data": {
      "text/plain": [
       "<__main__.pokemon at 0x106bbf978>"
      ]
     },
     "execution_count": 27,
     "metadata": {},
     "output_type": "execute_result"
    }
   ],
   "source": [
    "ditto"
   ]
  },
  {
   "cell_type": "code",
   "execution_count": 28,
   "metadata": {},
   "outputs": [
    {
     "data": {
      "text/plain": [
       "'shifty'"
      ]
     },
     "execution_count": 28,
     "metadata": {},
     "output_type": "execute_result"
    }
   ],
   "source": [
    "ditto.name"
   ]
  },
  {
   "cell_type": "code",
   "execution_count": 29,
   "metadata": {},
   "outputs": [
    {
     "name": "stdout",
     "output_type": "stream",
     "text": [
      "Type: Ditto | Name: shifty | Size: xs\n"
     ]
    }
   ],
   "source": [
    "# class function\n",
    "print(ditto.stats())"
   ]
  },
  {
   "cell_type": "code",
   "execution_count": 30,
   "metadata": {},
   "outputs": [
    {
     "data": {
      "text/plain": [
       "\"My name's shifty\""
      ]
     },
     "execution_count": 30,
     "metadata": {},
     "output_type": "execute_result"
    }
   ],
   "source": [
    "ditto.say_hi()"
   ]
  },
  {
   "cell_type": "code",
   "execution_count": 31,
   "metadata": {},
   "outputs": [
    {
     "name": "stdout",
     "output_type": "stream",
     "text": [
      "[61, 12, 341, 223, 166, 398, 169, 198, 263, 116]\n"
     ]
    }
   ],
   "source": [
    "print(ditto.give_random_list())"
   ]
  },
  {
   "cell_type": "code",
   "execution_count": 32,
   "metadata": {},
   "outputs": [
    {
     "name": "stdout",
     "output_type": "stream",
     "text": [
      "[13, 293, 373, 111, 360, 145, 182, 243, 282, 27, 88, 211, 361, 303, 232, 106, 152, 268, 360, 13]\n"
     ]
    }
   ],
   "source": [
    "print(ditto.give_random_list(20))"
   ]
  },
  {
   "cell_type": "code",
   "execution_count": 33,
   "metadata": {},
   "outputs": [],
   "source": [
    "# os commands"
   ]
  },
  {
   "cell_type": "code",
   "execution_count": 34,
   "metadata": {},
   "outputs": [
    {
     "data": {
      "text/plain": [
       "'.'"
      ]
     },
     "execution_count": 34,
     "metadata": {},
     "output_type": "execute_result"
    }
   ],
   "source": [
    "os.path.curdir"
   ]
  },
  {
   "cell_type": "code",
   "execution_count": 35,
   "metadata": {},
   "outputs": [
    {
     "data": {
      "text/plain": [
       "['.DS_Store',\n",
       " 'python 101.ipynb',\n",
       " 'docs',\n",
       " '.gitignore',\n",
       " 'numpy.ipynb',\n",
       " '.ipynb_checkpoints',\n",
       " '.git',\n",
       " 'scikit-learn.ipynb',\n",
       " 'pandas.ipynb']"
      ]
     },
     "execution_count": 35,
     "metadata": {},
     "output_type": "execute_result"
    }
   ],
   "source": [
    "os.listdir(\".\")"
   ]
  },
  {
   "cell_type": "code",
   "execution_count": 45,
   "metadata": {},
   "outputs": [
    {
     "name": "stdout",
     "output_type": "stream",
     "text": [
      "./docs/.DS_Store\n",
      "./docs/exampleexcel.numbers\n",
      "./docs/exampleexcel.xlsx\n",
      "./docs/weird.log\n",
      "./.ipynb_checkpoints/numpy-checkpoint.ipynb\n",
      "./.ipynb_checkpoints/python 101-checkpoint.ipynb\n",
      "./.ipynb_checkpoints/pandas-checkpoint.ipynb\n",
      "./.ipynb_checkpoints/scikit-learn-checkpoint.ipynb\n",
      "./.git/objects/d7/bb7b115b36bacdd1584696e96da0b286b23804\n",
      "./.git/objects/be/b2fbff8cae51798d33228a59b7eb34d10bed57\n",
      "./.git/objects/a2/208b320ea93a77c605c2d8be8f1adb8f3e7f68\n",
      "./.git/objects/ae/d91d1696600c724f913e7f98237338579b748e\n",
      "./.git/objects/c7/2384c1ee09ac4aabb7e29d9b4494aa5b0b0f52\n",
      "./.git/objects/fc/a5a9bfbbb9f9beeb72209392640e120a26de89\n",
      "./.git/objects/f5/bee5dc3a2375f59cc7b9acda63981c7a96112b\n",
      "./.git/objects/19/f26c97f8d3e5c1bc04fc8903537bc0e6979028\n",
      "./.git/objects/31/6d098bfe59835a22fb48e92656a01ff3b6876c\n",
      "./.git/objects/53/97790bcb47f18fb3cd701ab77a9090c0f9cfa6\n",
      "./.git/objects/2b/03ac212934b99c1cd5ca29805b9f831817819f\n",
      "./.git/info/exclude\n",
      "./.git/logs/refs/heads/master\n",
      "./.git/logs/refs/remotes/origin/master\n",
      "./.git/logs/HEAD\n",
      "./.git/hooks/commit-msg.sample\n",
      "./.git/hooks/pre-rebase.sample\n",
      "./.git/hooks/pre-commit.sample\n",
      "./.git/hooks/applypatch-msg.sample\n",
      "./.git/hooks/fsmonitor-watchman.sample\n",
      "./.git/hooks/pre-receive.sample\n",
      "./.git/hooks/prepare-commit-msg.sample\n",
      "./.git/hooks/post-update.sample\n",
      "./.git/hooks/pre-applypatch.sample\n",
      "./.git/hooks/pre-push.sample\n",
      "./.git/hooks/update.sample\n",
      "./.git/refs/heads/master\n",
      "./.git/refs/remotes/origin/master\n",
      "./.git/config\n",
      "./.git/HEAD\n",
      "./.git/description\n",
      "./.git/index\n",
      "./.git/COMMIT_EDITMSG\n",
      "./.DS_Store\n",
      "./python 101.ipynb\n",
      "./.gitignore\n",
      "./numpy.ipynb\n",
      "./scikit-learn.ipynb\n",
      "./pandas.ipynb\n"
     ]
    }
   ],
   "source": [
    "for root, dirs, files in os.walk(os.path.curdir, topdown=False):\n",
    "    '''root = x[0]\n",
    "    dirs = x[1]\n",
    "    files = x[2]'''\n",
    "    for f in files:\n",
    "        print(os.path.join(root, f))"
   ]
  },
  {
   "cell_type": "code",
   "execution_count": 51,
   "metadata": {},
   "outputs": [
    {
     "data": {
      "text/plain": [
       "0"
      ]
     },
     "execution_count": 51,
     "metadata": {},
     "output_type": "execute_result"
    }
   ],
   "source": [
    "# cli commands from within python script\n",
    "# subprocess is also available and a bit more powerfull \n",
    "# https://docs.python.org/2/library/subprocess.html\n",
    "os.system('touch file_created_from_python.txt')"
   ]
  },
  {
   "cell_type": "code",
   "execution_count": null,
   "metadata": {},
   "outputs": [],
   "source": []
  }
 ],
 "metadata": {
  "kernelspec": {
   "display_name": "Python 3",
   "language": "python",
   "name": "python3"
  },
  "language_info": {
   "codemirror_mode": {
    "name": "ipython",
    "version": 3
   },
   "file_extension": ".py",
   "mimetype": "text/x-python",
   "name": "python",
   "nbconvert_exporter": "python",
   "pygments_lexer": "ipython3",
   "version": "3.7.3"
  }
 },
 "nbformat": 4,
 "nbformat_minor": 2
}
