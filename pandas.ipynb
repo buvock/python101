{
 "cells": [
  {
   "cell_type": "markdown",
   "metadata": {},
   "source": [
    "# PANDAS\n",
    "\n",
    "pandas is an open source, BSD-licensed library providing high-performance, easy-to-use data structures and data analysis tools for the Python programming language."
   ]
  },
  {
   "cell_type": "code",
   "execution_count": 1,
   "metadata": {},
   "outputs": [],
   "source": [
    "import numpy as np\n",
    "import pandas as pd"
   ]
  },
  {
   "cell_type": "code",
   "execution_count": 2,
   "metadata": {},
   "outputs": [],
   "source": [
    "# create a pandas series\n",
    "s = pd.Series([1, 3, 5, np.nan, 6, 7])"
   ]
  },
  {
   "cell_type": "code",
   "execution_count": 3,
   "metadata": {},
   "outputs": [
    {
     "data": {
      "text/plain": [
       "0    1.0\n",
       "1    3.0\n",
       "2    5.0\n",
       "3    NaN\n",
       "4    6.0\n",
       "5    7.0\n",
       "dtype: float64"
      ]
     },
     "execution_count": 3,
     "metadata": {},
     "output_type": "execute_result"
    }
   ],
   "source": [
    "s"
   ]
  },
  {
   "cell_type": "code",
   "execution_count": 4,
   "metadata": {},
   "outputs": [
    {
     "data": {
      "text/plain": [
       "(6,)"
      ]
     },
     "execution_count": 4,
     "metadata": {},
     "output_type": "execute_result"
    }
   ],
   "source": [
    "s.shape"
   ]
  },
  {
   "cell_type": "code",
   "execution_count": 5,
   "metadata": {},
   "outputs": [
    {
     "name": "stdout",
     "output_type": "stream",
     "text": [
      "DatetimeIndex(['2013-01-01', '2013-01-02', '2013-01-03', '2013-01-04',\n",
      "               '2013-01-05', '2013-01-06'],\n",
      "              dtype='datetime64[ns]', freq='D')\n"
     ]
    }
   ],
   "source": [
    "# create a range of dates, date provided is start date, periods increments by day\n",
    "dates = pd.date_range('20130101', periods=6)\n",
    "print(dates)"
   ]
  },
  {
   "cell_type": "code",
   "execution_count": 6,
   "metadata": {},
   "outputs": [
    {
     "name": "stdout",
     "output_type": "stream",
     "text": [
      "                   A         B         C         D\n",
      "2013-01-01 -0.839755  0.676242  0.102106  1.257492\n",
      "2013-01-02 -0.164442  0.006922  1.024605 -0.563736\n",
      "2013-01-03 -0.587786 -0.779490  0.588123 -0.571965\n",
      "2013-01-04 -0.980953 -1.767664  1.269346 -0.618362\n",
      "2013-01-05 -1.021459  0.473618 -0.589531  0.578117\n",
      "2013-01-06  0.561211 -0.366763  1.074911 -2.474800\n"
     ]
    }
   ],
   "source": [
    "# create a dataframe from random data using the dates variable created earlier as the index\n",
    "df = pd.DataFrame(np.random.randn(6, 4), index=dates, columns=list('ABCD'))\n",
    "print (df)"
   ]
  },
  {
   "cell_type": "code",
   "execution_count": 7,
   "metadata": {},
   "outputs": [
    {
     "data": {
      "text/html": [
       "<div>\n",
       "<style scoped>\n",
       "    .dataframe tbody tr th:only-of-type {\n",
       "        vertical-align: middle;\n",
       "    }\n",
       "\n",
       "    .dataframe tbody tr th {\n",
       "        vertical-align: top;\n",
       "    }\n",
       "\n",
       "    .dataframe thead th {\n",
       "        text-align: right;\n",
       "    }\n",
       "</style>\n",
       "<table border=\"1\" class=\"dataframe\">\n",
       "  <thead>\n",
       "    <tr style=\"text-align: right;\">\n",
       "      <th></th>\n",
       "      <th>A</th>\n",
       "      <th>B</th>\n",
       "      <th>C</th>\n",
       "      <th>D</th>\n",
       "    </tr>\n",
       "  </thead>\n",
       "  <tbody>\n",
       "    <tr>\n",
       "      <th>2013-01-01</th>\n",
       "      <td>-0.839755</td>\n",
       "      <td>0.676242</td>\n",
       "      <td>0.102106</td>\n",
       "      <td>1.257492</td>\n",
       "    </tr>\n",
       "    <tr>\n",
       "      <th>2013-01-02</th>\n",
       "      <td>-0.164442</td>\n",
       "      <td>0.006922</td>\n",
       "      <td>1.024605</td>\n",
       "      <td>-0.563736</td>\n",
       "    </tr>\n",
       "  </tbody>\n",
       "</table>\n",
       "</div>"
      ],
      "text/plain": [
       "                   A         B         C         D\n",
       "2013-01-01 -0.839755  0.676242  0.102106  1.257492\n",
       "2013-01-02 -0.164442  0.006922  1.024605 -0.563736"
      ]
     },
     "execution_count": 7,
     "metadata": {},
     "output_type": "execute_result"
    }
   ],
   "source": [
    "df.head(2) # get first 2 records, default is 5"
   ]
  },
  {
   "cell_type": "code",
   "execution_count": 8,
   "metadata": {},
   "outputs": [
    {
     "data": {
      "text/html": [
       "<div>\n",
       "<style scoped>\n",
       "    .dataframe tbody tr th:only-of-type {\n",
       "        vertical-align: middle;\n",
       "    }\n",
       "\n",
       "    .dataframe tbody tr th {\n",
       "        vertical-align: top;\n",
       "    }\n",
       "\n",
       "    .dataframe thead th {\n",
       "        text-align: right;\n",
       "    }\n",
       "</style>\n",
       "<table border=\"1\" class=\"dataframe\">\n",
       "  <thead>\n",
       "    <tr style=\"text-align: right;\">\n",
       "      <th></th>\n",
       "      <th>A</th>\n",
       "      <th>B</th>\n",
       "      <th>C</th>\n",
       "      <th>D</th>\n",
       "    </tr>\n",
       "  </thead>\n",
       "  <tbody>\n",
       "    <tr>\n",
       "      <th>2013-01-05</th>\n",
       "      <td>-1.021459</td>\n",
       "      <td>0.473618</td>\n",
       "      <td>-0.589531</td>\n",
       "      <td>0.578117</td>\n",
       "    </tr>\n",
       "    <tr>\n",
       "      <th>2013-01-06</th>\n",
       "      <td>0.561211</td>\n",
       "      <td>-0.366763</td>\n",
       "      <td>1.074911</td>\n",
       "      <td>-2.474800</td>\n",
       "    </tr>\n",
       "  </tbody>\n",
       "</table>\n",
       "</div>"
      ],
      "text/plain": [
       "                   A         B         C         D\n",
       "2013-01-05 -1.021459  0.473618 -0.589531  0.578117\n",
       "2013-01-06  0.561211 -0.366763  1.074911 -2.474800"
      ]
     },
     "execution_count": 8,
     "metadata": {},
     "output_type": "execute_result"
    }
   ],
   "source": [
    "df.tail(2) # get last 2 records, default is 5"
   ]
  },
  {
   "cell_type": "code",
   "execution_count": 9,
   "metadata": {},
   "outputs": [
    {
     "data": {
      "text/plain": [
       "DatetimeIndex(['2013-01-01', '2013-01-02', '2013-01-03', '2013-01-04',\n",
       "               '2013-01-05', '2013-01-06'],\n",
       "              dtype='datetime64[ns]', freq='D')"
      ]
     },
     "execution_count": 9,
     "metadata": {},
     "output_type": "execute_result"
    }
   ],
   "source": [
    "df.index # view indexs"
   ]
  },
  {
   "cell_type": "code",
   "execution_count": 10,
   "metadata": {},
   "outputs": [
    {
     "data": {
      "text/plain": [
       "Index(['A', 'B', 'C', 'D'], dtype='object')"
      ]
     },
     "execution_count": 10,
     "metadata": {},
     "output_type": "execute_result"
    }
   ],
   "source": [
    "df.columns # view available columns"
   ]
  },
  {
   "cell_type": "code",
   "execution_count": 11,
   "metadata": {},
   "outputs": [
    {
     "data": {
      "text/plain": [
       "2013-01-01    0.676242\n",
       "2013-01-02    0.006922\n",
       "2013-01-03   -0.779490\n",
       "2013-01-04   -1.767664\n",
       "2013-01-05    0.473618\n",
       "2013-01-06   -0.366763\n",
       "Freq: D, Name: B, dtype: float64"
      ]
     },
     "execution_count": 11,
     "metadata": {},
     "output_type": "execute_result"
    }
   ],
   "source": [
    "df.B # view specific columns"
   ]
  },
  {
   "cell_type": "code",
   "execution_count": 12,
   "metadata": {},
   "outputs": [
    {
     "data": {
      "text/html": [
       "<div>\n",
       "<style scoped>\n",
       "    .dataframe tbody tr th:only-of-type {\n",
       "        vertical-align: middle;\n",
       "    }\n",
       "\n",
       "    .dataframe tbody tr th {\n",
       "        vertical-align: top;\n",
       "    }\n",
       "\n",
       "    .dataframe thead th {\n",
       "        text-align: right;\n",
       "    }\n",
       "</style>\n",
       "<table border=\"1\" class=\"dataframe\">\n",
       "  <thead>\n",
       "    <tr style=\"text-align: right;\">\n",
       "      <th></th>\n",
       "      <th>A</th>\n",
       "      <th>B</th>\n",
       "      <th>C</th>\n",
       "      <th>D</th>\n",
       "    </tr>\n",
       "  </thead>\n",
       "  <tbody>\n",
       "    <tr>\n",
       "      <th>count</th>\n",
       "      <td>6.000000</td>\n",
       "      <td>6.000000</td>\n",
       "      <td>6.000000</td>\n",
       "      <td>6.000000</td>\n",
       "    </tr>\n",
       "    <tr>\n",
       "      <th>mean</th>\n",
       "      <td>-0.505531</td>\n",
       "      <td>-0.292856</td>\n",
       "      <td>0.578260</td>\n",
       "      <td>-0.398876</td>\n",
       "    </tr>\n",
       "    <tr>\n",
       "      <th>std</th>\n",
       "      <td>0.610731</td>\n",
       "      <td>0.898202</td>\n",
       "      <td>0.709090</td>\n",
       "      <td>1.273801</td>\n",
       "    </tr>\n",
       "    <tr>\n",
       "      <th>min</th>\n",
       "      <td>-1.021459</td>\n",
       "      <td>-1.767664</td>\n",
       "      <td>-0.589531</td>\n",
       "      <td>-2.474800</td>\n",
       "    </tr>\n",
       "    <tr>\n",
       "      <th>25%</th>\n",
       "      <td>-0.945654</td>\n",
       "      <td>-0.676308</td>\n",
       "      <td>0.223610</td>\n",
       "      <td>-0.606763</td>\n",
       "    </tr>\n",
       "    <tr>\n",
       "      <th>50%</th>\n",
       "      <td>-0.713770</td>\n",
       "      <td>-0.179921</td>\n",
       "      <td>0.806364</td>\n",
       "      <td>-0.567851</td>\n",
       "    </tr>\n",
       "    <tr>\n",
       "      <th>75%</th>\n",
       "      <td>-0.270278</td>\n",
       "      <td>0.356944</td>\n",
       "      <td>1.062335</td>\n",
       "      <td>0.292654</td>\n",
       "    </tr>\n",
       "    <tr>\n",
       "      <th>max</th>\n",
       "      <td>0.561211</td>\n",
       "      <td>0.676242</td>\n",
       "      <td>1.269346</td>\n",
       "      <td>1.257492</td>\n",
       "    </tr>\n",
       "  </tbody>\n",
       "</table>\n",
       "</div>"
      ],
      "text/plain": [
       "              A         B         C         D\n",
       "count  6.000000  6.000000  6.000000  6.000000\n",
       "mean  -0.505531 -0.292856  0.578260 -0.398876\n",
       "std    0.610731  0.898202  0.709090  1.273801\n",
       "min   -1.021459 -1.767664 -0.589531 -2.474800\n",
       "25%   -0.945654 -0.676308  0.223610 -0.606763\n",
       "50%   -0.713770 -0.179921  0.806364 -0.567851\n",
       "75%   -0.270278  0.356944  1.062335  0.292654\n",
       "max    0.561211  0.676242  1.269346  1.257492"
      ]
     },
     "execution_count": 12,
     "metadata": {},
     "output_type": "execute_result"
    }
   ],
   "source": [
    "df.describe() # inspect dataset"
   ]
  },
  {
   "cell_type": "code",
   "execution_count": 13,
   "metadata": {},
   "outputs": [
    {
     "data": {
      "text/html": [
       "<div>\n",
       "<style scoped>\n",
       "    .dataframe tbody tr th:only-of-type {\n",
       "        vertical-align: middle;\n",
       "    }\n",
       "\n",
       "    .dataframe tbody tr th {\n",
       "        vertical-align: top;\n",
       "    }\n",
       "\n",
       "    .dataframe thead th {\n",
       "        text-align: right;\n",
       "    }\n",
       "</style>\n",
       "<table border=\"1\" class=\"dataframe\">\n",
       "  <thead>\n",
       "    <tr style=\"text-align: right;\">\n",
       "      <th></th>\n",
       "      <th>2013-01-01 00:00:00</th>\n",
       "      <th>2013-01-02 00:00:00</th>\n",
       "      <th>2013-01-03 00:00:00</th>\n",
       "      <th>2013-01-04 00:00:00</th>\n",
       "      <th>2013-01-05 00:00:00</th>\n",
       "      <th>2013-01-06 00:00:00</th>\n",
       "    </tr>\n",
       "  </thead>\n",
       "  <tbody>\n",
       "    <tr>\n",
       "      <th>A</th>\n",
       "      <td>-0.839755</td>\n",
       "      <td>-0.164442</td>\n",
       "      <td>-0.587786</td>\n",
       "      <td>-0.980953</td>\n",
       "      <td>-1.021459</td>\n",
       "      <td>0.561211</td>\n",
       "    </tr>\n",
       "    <tr>\n",
       "      <th>B</th>\n",
       "      <td>0.676242</td>\n",
       "      <td>0.006922</td>\n",
       "      <td>-0.779490</td>\n",
       "      <td>-1.767664</td>\n",
       "      <td>0.473618</td>\n",
       "      <td>-0.366763</td>\n",
       "    </tr>\n",
       "    <tr>\n",
       "      <th>C</th>\n",
       "      <td>0.102106</td>\n",
       "      <td>1.024605</td>\n",
       "      <td>0.588123</td>\n",
       "      <td>1.269346</td>\n",
       "      <td>-0.589531</td>\n",
       "      <td>1.074911</td>\n",
       "    </tr>\n",
       "    <tr>\n",
       "      <th>D</th>\n",
       "      <td>1.257492</td>\n",
       "      <td>-0.563736</td>\n",
       "      <td>-0.571965</td>\n",
       "      <td>-0.618362</td>\n",
       "      <td>0.578117</td>\n",
       "      <td>-2.474800</td>\n",
       "    </tr>\n",
       "  </tbody>\n",
       "</table>\n",
       "</div>"
      ],
      "text/plain": [
       "   2013-01-01  2013-01-02  2013-01-03  2013-01-04  2013-01-05  2013-01-06\n",
       "A   -0.839755   -0.164442   -0.587786   -0.980953   -1.021459    0.561211\n",
       "B    0.676242    0.006922   -0.779490   -1.767664    0.473618   -0.366763\n",
       "C    0.102106    1.024605    0.588123    1.269346   -0.589531    1.074911\n",
       "D    1.257492   -0.563736   -0.571965   -0.618362    0.578117   -2.474800"
      ]
     },
     "execution_count": 13,
     "metadata": {},
     "output_type": "execute_result"
    }
   ],
   "source": [
    "df.T # transpose"
   ]
  },
  {
   "cell_type": "code",
   "execution_count": 14,
   "metadata": {},
   "outputs": [
    {
     "data": {
      "text/html": [
       "<div>\n",
       "<style scoped>\n",
       "    .dataframe tbody tr th:only-of-type {\n",
       "        vertical-align: middle;\n",
       "    }\n",
       "\n",
       "    .dataframe tbody tr th {\n",
       "        vertical-align: top;\n",
       "    }\n",
       "\n",
       "    .dataframe thead th {\n",
       "        text-align: right;\n",
       "    }\n",
       "</style>\n",
       "<table border=\"1\" class=\"dataframe\">\n",
       "  <thead>\n",
       "    <tr style=\"text-align: right;\">\n",
       "      <th></th>\n",
       "      <th>D</th>\n",
       "      <th>C</th>\n",
       "      <th>B</th>\n",
       "      <th>A</th>\n",
       "    </tr>\n",
       "  </thead>\n",
       "  <tbody>\n",
       "    <tr>\n",
       "      <th>2013-01-01</th>\n",
       "      <td>1.257492</td>\n",
       "      <td>0.102106</td>\n",
       "      <td>0.676242</td>\n",
       "      <td>-0.839755</td>\n",
       "    </tr>\n",
       "    <tr>\n",
       "      <th>2013-01-02</th>\n",
       "      <td>-0.563736</td>\n",
       "      <td>1.024605</td>\n",
       "      <td>0.006922</td>\n",
       "      <td>-0.164442</td>\n",
       "    </tr>\n",
       "    <tr>\n",
       "      <th>2013-01-03</th>\n",
       "      <td>-0.571965</td>\n",
       "      <td>0.588123</td>\n",
       "      <td>-0.779490</td>\n",
       "      <td>-0.587786</td>\n",
       "    </tr>\n",
       "    <tr>\n",
       "      <th>2013-01-04</th>\n",
       "      <td>-0.618362</td>\n",
       "      <td>1.269346</td>\n",
       "      <td>-1.767664</td>\n",
       "      <td>-0.980953</td>\n",
       "    </tr>\n",
       "    <tr>\n",
       "      <th>2013-01-05</th>\n",
       "      <td>0.578117</td>\n",
       "      <td>-0.589531</td>\n",
       "      <td>0.473618</td>\n",
       "      <td>-1.021459</td>\n",
       "    </tr>\n",
       "    <tr>\n",
       "      <th>2013-01-06</th>\n",
       "      <td>-2.474800</td>\n",
       "      <td>1.074911</td>\n",
       "      <td>-0.366763</td>\n",
       "      <td>0.561211</td>\n",
       "    </tr>\n",
       "  </tbody>\n",
       "</table>\n",
       "</div>"
      ],
      "text/plain": [
       "                   D         C         B         A\n",
       "2013-01-01  1.257492  0.102106  0.676242 -0.839755\n",
       "2013-01-02 -0.563736  1.024605  0.006922 -0.164442\n",
       "2013-01-03 -0.571965  0.588123 -0.779490 -0.587786\n",
       "2013-01-04 -0.618362  1.269346 -1.767664 -0.980953\n",
       "2013-01-05  0.578117 -0.589531  0.473618 -1.021459\n",
       "2013-01-06 -2.474800  1.074911 -0.366763  0.561211"
      ]
     },
     "execution_count": 14,
     "metadata": {},
     "output_type": "execute_result"
    }
   ],
   "source": [
    "df.sort_index(axis=1, ascending=False) # sort by axis"
   ]
  },
  {
   "cell_type": "markdown",
   "metadata": {},
   "source": [
    "# ingest excel files"
   ]
  },
  {
   "cell_type": "code",
   "execution_count": 15,
   "metadata": {},
   "outputs": [],
   "source": [
    "xl = pd.read_excel(\"./docs/exampleexcel.xlsx\")"
   ]
  },
  {
   "cell_type": "code",
   "execution_count": 16,
   "metadata": {},
   "outputs": [
    {
     "data": {
      "text/html": [
       "<div>\n",
       "<style scoped>\n",
       "    .dataframe tbody tr th:only-of-type {\n",
       "        vertical-align: middle;\n",
       "    }\n",
       "\n",
       "    .dataframe tbody tr th {\n",
       "        vertical-align: top;\n",
       "    }\n",
       "\n",
       "    .dataframe thead th {\n",
       "        text-align: right;\n",
       "    }\n",
       "</style>\n",
       "<table border=\"1\" class=\"dataframe\">\n",
       "  <thead>\n",
       "    <tr style=\"text-align: right;\">\n",
       "      <th></th>\n",
       "      <th>Example column 1</th>\n",
       "      <th>Example column 2</th>\n",
       "      <th>Example column three</th>\n",
       "      <th>Example column 4</th>\n",
       "    </tr>\n",
       "  </thead>\n",
       "  <tbody>\n",
       "    <tr>\n",
       "      <th>0</th>\n",
       "      <td>Text value 1</td>\n",
       "      <td>4</td>\n",
       "      <td>4.6</td>\n",
       "      <td>2019-09-03</td>\n",
       "    </tr>\n",
       "    <tr>\n",
       "      <th>1</th>\n",
       "      <td>Text value 2</td>\n",
       "      <td>5</td>\n",
       "      <td>5.2</td>\n",
       "      <td>2019-03-05</td>\n",
       "    </tr>\n",
       "    <tr>\n",
       "      <th>2</th>\n",
       "      <td>Text value 3</td>\n",
       "      <td>2</td>\n",
       "      <td>7.8</td>\n",
       "      <td>2018-05-04</td>\n",
       "    </tr>\n",
       "    <tr>\n",
       "      <th>3</th>\n",
       "      <td>Text value 4</td>\n",
       "      <td>8</td>\n",
       "      <td>5.9</td>\n",
       "      <td>2017-05-07</td>\n",
       "    </tr>\n",
       "    <tr>\n",
       "      <th>4</th>\n",
       "      <td>Text value 5</td>\n",
       "      <td>9</td>\n",
       "      <td>3.5</td>\n",
       "      <td>2016-12-09</td>\n",
       "    </tr>\n",
       "    <tr>\n",
       "      <th>5</th>\n",
       "      <td>Text value 6</td>\n",
       "      <td>4</td>\n",
       "      <td>2.5</td>\n",
       "      <td>2019-02-01</td>\n",
       "    </tr>\n",
       "    <tr>\n",
       "      <th>6</th>\n",
       "      <td>Text value 7</td>\n",
       "      <td>8</td>\n",
       "      <td>7.8</td>\n",
       "      <td>2019-04-03</td>\n",
       "    </tr>\n",
       "    <tr>\n",
       "      <th>7</th>\n",
       "      <td>Text value 8</td>\n",
       "      <td>0</td>\n",
       "      <td>9.6</td>\n",
       "      <td>2019-05-02</td>\n",
       "    </tr>\n",
       "    <tr>\n",
       "      <th>8</th>\n",
       "      <td>Text value 9</td>\n",
       "      <td>3</td>\n",
       "      <td>10.5</td>\n",
       "      <td>2018-02-01</td>\n",
       "    </tr>\n",
       "  </tbody>\n",
       "</table>\n",
       "</div>"
      ],
      "text/plain": [
       "  Example column 1  Example column 2  Example column three Example column 4 \n",
       "0     Text value 1                 4                   4.6        2019-09-03\n",
       "1     Text value 2                 5                   5.2        2019-03-05\n",
       "2     Text value 3                 2                   7.8        2018-05-04\n",
       "3     Text value 4                 8                   5.9        2017-05-07\n",
       "4     Text value 5                 9                   3.5        2016-12-09\n",
       "5     Text value 6                 4                   2.5        2019-02-01\n",
       "6     Text value 7                 8                   7.8        2019-04-03\n",
       "7     Text value 8                 0                   9.6        2019-05-02\n",
       "8     Text value 9                 3                  10.5        2018-02-01"
      ]
     },
     "execution_count": 16,
     "metadata": {},
     "output_type": "execute_result"
    }
   ],
   "source": [
    "xl"
   ]
  },
  {
   "cell_type": "code",
   "execution_count": 17,
   "metadata": {},
   "outputs": [
    {
     "data": {
      "text/html": [
       "<div>\n",
       "<style scoped>\n",
       "    .dataframe tbody tr th:only-of-type {\n",
       "        vertical-align: middle;\n",
       "    }\n",
       "\n",
       "    .dataframe tbody tr th {\n",
       "        vertical-align: top;\n",
       "    }\n",
       "\n",
       "    .dataframe thead th {\n",
       "        text-align: right;\n",
       "    }\n",
       "</style>\n",
       "<table border=\"1\" class=\"dataframe\">\n",
       "  <thead>\n",
       "    <tr style=\"text-align: right;\">\n",
       "      <th></th>\n",
       "      <th>Example column 1</th>\n",
       "      <th>Example column 2</th>\n",
       "      <th>Example column three</th>\n",
       "      <th>Example column 4</th>\n",
       "    </tr>\n",
       "  </thead>\n",
       "  <tbody>\n",
       "    <tr>\n",
       "      <th>0</th>\n",
       "      <td>Text value 1</td>\n",
       "      <td>4</td>\n",
       "      <td>4.6</td>\n",
       "      <td>2019-09-03</td>\n",
       "    </tr>\n",
       "    <tr>\n",
       "      <th>1</th>\n",
       "      <td>Text value 2</td>\n",
       "      <td>5</td>\n",
       "      <td>5.2</td>\n",
       "      <td>2019-03-05</td>\n",
       "    </tr>\n",
       "    <tr>\n",
       "      <th>2</th>\n",
       "      <td>Text value 3</td>\n",
       "      <td>2</td>\n",
       "      <td>7.8</td>\n",
       "      <td>2018-05-04</td>\n",
       "    </tr>\n",
       "    <tr>\n",
       "      <th>3</th>\n",
       "      <td>Text value 4</td>\n",
       "      <td>8</td>\n",
       "      <td>5.9</td>\n",
       "      <td>2017-05-07</td>\n",
       "    </tr>\n",
       "    <tr>\n",
       "      <th>4</th>\n",
       "      <td>Text value 5</td>\n",
       "      <td>9</td>\n",
       "      <td>3.5</td>\n",
       "      <td>2016-12-09</td>\n",
       "    </tr>\n",
       "  </tbody>\n",
       "</table>\n",
       "</div>"
      ],
      "text/plain": [
       "  Example column 1  Example column 2  Example column three Example column 4 \n",
       "0     Text value 1                 4                   4.6        2019-09-03\n",
       "1     Text value 2                 5                   5.2        2019-03-05\n",
       "2     Text value 3                 2                   7.8        2018-05-04\n",
       "3     Text value 4                 8                   5.9        2017-05-07\n",
       "4     Text value 5                 9                   3.5        2016-12-09"
      ]
     },
     "execution_count": 17,
     "metadata": {},
     "output_type": "execute_result"
    }
   ],
   "source": [
    "xl.head()"
   ]
  },
  {
   "cell_type": "code",
   "execution_count": 18,
   "metadata": {},
   "outputs": [
    {
     "data": {
      "text/plain": [
       "count     9.000000\n",
       "mean      6.377778\n",
       "std       2.727534\n",
       "min       2.500000\n",
       "25%       4.600000\n",
       "50%       5.900000\n",
       "75%       7.800000\n",
       "max      10.500000\n",
       "Name: Example column three, dtype: float64"
      ]
     },
     "execution_count": 18,
     "metadata": {},
     "output_type": "execute_result"
    }
   ],
   "source": [
    "xl['Example column three'].describe()"
   ]
  },
  {
   "cell_type": "code",
   "execution_count": 19,
   "metadata": {},
   "outputs": [],
   "source": [
    "xl['Example column 2'] = xl['Example column 2'] * 2"
   ]
  },
  {
   "cell_type": "code",
   "execution_count": 20,
   "metadata": {},
   "outputs": [
    {
     "data": {
      "text/html": [
       "<div>\n",
       "<style scoped>\n",
       "    .dataframe tbody tr th:only-of-type {\n",
       "        vertical-align: middle;\n",
       "    }\n",
       "\n",
       "    .dataframe tbody tr th {\n",
       "        vertical-align: top;\n",
       "    }\n",
       "\n",
       "    .dataframe thead th {\n",
       "        text-align: right;\n",
       "    }\n",
       "</style>\n",
       "<table border=\"1\" class=\"dataframe\">\n",
       "  <thead>\n",
       "    <tr style=\"text-align: right;\">\n",
       "      <th></th>\n",
       "      <th>Example column 1</th>\n",
       "      <th>Example column 2</th>\n",
       "      <th>Example column three</th>\n",
       "      <th>Example column 4</th>\n",
       "    </tr>\n",
       "  </thead>\n",
       "  <tbody>\n",
       "    <tr>\n",
       "      <th>0</th>\n",
       "      <td>Text value 1</td>\n",
       "      <td>8</td>\n",
       "      <td>4.6</td>\n",
       "      <td>2019-09-03</td>\n",
       "    </tr>\n",
       "    <tr>\n",
       "      <th>1</th>\n",
       "      <td>Text value 2</td>\n",
       "      <td>10</td>\n",
       "      <td>5.2</td>\n",
       "      <td>2019-03-05</td>\n",
       "    </tr>\n",
       "    <tr>\n",
       "      <th>2</th>\n",
       "      <td>Text value 3</td>\n",
       "      <td>4</td>\n",
       "      <td>7.8</td>\n",
       "      <td>2018-05-04</td>\n",
       "    </tr>\n",
       "    <tr>\n",
       "      <th>3</th>\n",
       "      <td>Text value 4</td>\n",
       "      <td>16</td>\n",
       "      <td>5.9</td>\n",
       "      <td>2017-05-07</td>\n",
       "    </tr>\n",
       "    <tr>\n",
       "      <th>4</th>\n",
       "      <td>Text value 5</td>\n",
       "      <td>18</td>\n",
       "      <td>3.5</td>\n",
       "      <td>2016-12-09</td>\n",
       "    </tr>\n",
       "  </tbody>\n",
       "</table>\n",
       "</div>"
      ],
      "text/plain": [
       "  Example column 1  Example column 2  Example column three Example column 4 \n",
       "0     Text value 1                 8                   4.6        2019-09-03\n",
       "1     Text value 2                10                   5.2        2019-03-05\n",
       "2     Text value 3                 4                   7.8        2018-05-04\n",
       "3     Text value 4                16                   5.9        2017-05-07\n",
       "4     Text value 5                18                   3.5        2016-12-09"
      ]
     },
     "execution_count": 20,
     "metadata": {},
     "output_type": "execute_result"
    }
   ],
   "source": [
    "xl.head()"
   ]
  },
  {
   "cell_type": "markdown",
   "metadata": {},
   "source": [
    "# bro log analysis\n",
    "\n",
    "imngest weird.log"
   ]
  },
  {
   "cell_type": "code",
   "execution_count": 21,
   "metadata": {},
   "outputs": [],
   "source": [
    "df = pd.read_csv(\"./docs/weird.log\", \n",
    "                 sep='\\t', \n",
    "                 names=['ts', 'uid', 'id.orig_h', 'id.orig_p', 'id.resp_p', 'name', 'addl', 'notice', 'peer'])"
   ]
  },
  {
   "cell_type": "code",
   "execution_count": 22,
   "metadata": {},
   "outputs": [
    {
     "data": {
      "text/html": [
       "<div>\n",
       "<style scoped>\n",
       "    .dataframe tbody tr th:only-of-type {\n",
       "        vertical-align: middle;\n",
       "    }\n",
       "\n",
       "    .dataframe tbody tr th {\n",
       "        vertical-align: top;\n",
       "    }\n",
       "\n",
       "    .dataframe thead th {\n",
       "        text-align: right;\n",
       "    }\n",
       "</style>\n",
       "<table border=\"1\" class=\"dataframe\">\n",
       "  <thead>\n",
       "    <tr style=\"text-align: right;\">\n",
       "      <th></th>\n",
       "      <th>ts</th>\n",
       "      <th>uid</th>\n",
       "      <th>id.orig_h</th>\n",
       "      <th>id.orig_p</th>\n",
       "      <th>id.resp_p</th>\n",
       "      <th>name</th>\n",
       "      <th>addl</th>\n",
       "      <th>notice</th>\n",
       "      <th>peer</th>\n",
       "    </tr>\n",
       "  </thead>\n",
       "  <tbody>\n",
       "    <tr>\n",
       "      <th>1.331901e+09</th>\n",
       "      <td>-</td>\n",
       "      <td>-</td>\n",
       "      <td>-</td>\n",
       "      <td>-</td>\n",
       "      <td>-</td>\n",
       "      <td>unknown_protocol_88</td>\n",
       "      <td>-</td>\n",
       "      <td>F</td>\n",
       "      <td>bro</td>\n",
       "    </tr>\n",
       "    <tr>\n",
       "      <th>1.331901e+09</th>\n",
       "      <td>-</td>\n",
       "      <td>-</td>\n",
       "      <td>-</td>\n",
       "      <td>-</td>\n",
       "      <td>-</td>\n",
       "      <td>unknown_packet_type</td>\n",
       "      <td>-</td>\n",
       "      <td>F</td>\n",
       "      <td>bro</td>\n",
       "    </tr>\n",
       "    <tr>\n",
       "      <th>1.331901e+09</th>\n",
       "      <td>-</td>\n",
       "      <td>-</td>\n",
       "      <td>-</td>\n",
       "      <td>-</td>\n",
       "      <td>-</td>\n",
       "      <td>truncated_IP</td>\n",
       "      <td>-</td>\n",
       "      <td>F</td>\n",
       "      <td>bro</td>\n",
       "    </tr>\n",
       "    <tr>\n",
       "      <th>1.331901e+09</th>\n",
       "      <td>CFmfPp4lcYsETNSogj</td>\n",
       "      <td>192.168.202.79</td>\n",
       "      <td>50778</td>\n",
       "      <td>192.168.229.251</td>\n",
       "      <td>80</td>\n",
       "      <td>unescaped_special_URI_char</td>\n",
       "      <td>-</td>\n",
       "      <td>F</td>\n",
       "      <td>bro</td>\n",
       "    </tr>\n",
       "    <tr>\n",
       "      <th>1.331901e+09</th>\n",
       "      <td>CiYIRv2E6wmEieDlz3</td>\n",
       "      <td>192.168.202.79</td>\n",
       "      <td>50844</td>\n",
       "      <td>192.168.229.251</td>\n",
       "      <td>80</td>\n",
       "      <td>unescaped_special_URI_char</td>\n",
       "      <td>-</td>\n",
       "      <td>F</td>\n",
       "      <td>bro</td>\n",
       "    </tr>\n",
       "  </tbody>\n",
       "</table>\n",
       "</div>"
      ],
      "text/plain": [
       "                              ts             uid id.orig_h        id.orig_p  \\\n",
       "1.331901e+09                   -               -         -                -   \n",
       "1.331901e+09                   -               -         -                -   \n",
       "1.331901e+09                   -               -         -                -   \n",
       "1.331901e+09  CFmfPp4lcYsETNSogj  192.168.202.79     50778  192.168.229.251   \n",
       "1.331901e+09  CiYIRv2E6wmEieDlz3  192.168.202.79     50844  192.168.229.251   \n",
       "\n",
       "             id.resp_p                        name addl notice peer  \n",
       "1.331901e+09         -         unknown_protocol_88    -      F  bro  \n",
       "1.331901e+09         -         unknown_packet_type    -      F  bro  \n",
       "1.331901e+09         -                truncated_IP    -      F  bro  \n",
       "1.331901e+09        80  unescaped_special_URI_char    -      F  bro  \n",
       "1.331901e+09        80  unescaped_special_URI_char    -      F  bro  "
      ]
     },
     "execution_count": 22,
     "metadata": {},
     "output_type": "execute_result"
    }
   ],
   "source": [
    "df.head()"
   ]
  },
  {
   "cell_type": "code",
   "execution_count": 23,
   "metadata": {},
   "outputs": [
    {
     "data": {
      "text/html": [
       "<div>\n",
       "<style scoped>\n",
       "    .dataframe tbody tr th:only-of-type {\n",
       "        vertical-align: middle;\n",
       "    }\n",
       "\n",
       "    .dataframe tbody tr th {\n",
       "        vertical-align: top;\n",
       "    }\n",
       "\n",
       "    .dataframe thead th {\n",
       "        text-align: right;\n",
       "    }\n",
       "</style>\n",
       "<table border=\"1\" class=\"dataframe\">\n",
       "  <thead>\n",
       "    <tr style=\"text-align: right;\">\n",
       "      <th></th>\n",
       "      <th>ts</th>\n",
       "      <th>uid</th>\n",
       "      <th>id.orig_h</th>\n",
       "      <th>id.orig_p</th>\n",
       "      <th>id.resp_p</th>\n",
       "      <th>name</th>\n",
       "      <th>addl</th>\n",
       "      <th>notice</th>\n",
       "      <th>peer</th>\n",
       "    </tr>\n",
       "  </thead>\n",
       "  <tbody>\n",
       "    <tr>\n",
       "      <th>count</th>\n",
       "      <td>65983</td>\n",
       "      <td>65983</td>\n",
       "      <td>65983</td>\n",
       "      <td>65983</td>\n",
       "      <td>65983</td>\n",
       "      <td>65983</td>\n",
       "      <td>65983</td>\n",
       "      <td>65983</td>\n",
       "      <td>65983</td>\n",
       "    </tr>\n",
       "    <tr>\n",
       "      <th>unique</th>\n",
       "      <td>51652</td>\n",
       "      <td>222</td>\n",
       "      <td>25773</td>\n",
       "      <td>280</td>\n",
       "      <td>184</td>\n",
       "      <td>50</td>\n",
       "      <td>126</td>\n",
       "      <td>1</td>\n",
       "      <td>1</td>\n",
       "    </tr>\n",
       "    <tr>\n",
       "      <th>top</th>\n",
       "      <td>-</td>\n",
       "      <td>192.168.202.102</td>\n",
       "      <td>135</td>\n",
       "      <td>192.168.24.101</td>\n",
       "      <td>80</td>\n",
       "      <td>unescaped_special_URI_char</td>\n",
       "      <td>-</td>\n",
       "      <td>F</td>\n",
       "      <td>bro</td>\n",
       "    </tr>\n",
       "    <tr>\n",
       "      <th>freq</th>\n",
       "      <td>457</td>\n",
       "      <td>23765</td>\n",
       "      <td>637</td>\n",
       "      <td>16041</td>\n",
       "      <td>46163</td>\n",
       "      <td>35017</td>\n",
       "      <td>65118</td>\n",
       "      <td>65983</td>\n",
       "      <td>65983</td>\n",
       "    </tr>\n",
       "  </tbody>\n",
       "</table>\n",
       "</div>"
      ],
      "text/plain": [
       "           ts              uid id.orig_h       id.orig_p id.resp_p  \\\n",
       "count   65983            65983     65983           65983     65983   \n",
       "unique  51652              222     25773             280       184   \n",
       "top         -  192.168.202.102       135  192.168.24.101        80   \n",
       "freq      457            23765       637           16041     46163   \n",
       "\n",
       "                              name   addl notice   peer  \n",
       "count                        65983  65983  65983  65983  \n",
       "unique                          50    126      1      1  \n",
       "top     unescaped_special_URI_char      -      F    bro  \n",
       "freq                         35017  65118  65983  65983  "
      ]
     },
     "execution_count": 23,
     "metadata": {},
     "output_type": "execute_result"
    }
   ],
   "source": [
    "df.describe()"
   ]
  },
  {
   "cell_type": "code",
   "execution_count": 24,
   "metadata": {},
   "outputs": [
    {
     "data": {
      "text/html": [
       "<div>\n",
       "<style scoped>\n",
       "    .dataframe tbody tr th:only-of-type {\n",
       "        vertical-align: middle;\n",
       "    }\n",
       "\n",
       "    .dataframe tbody tr th {\n",
       "        vertical-align: top;\n",
       "    }\n",
       "\n",
       "    .dataframe thead th {\n",
       "        text-align: right;\n",
       "    }\n",
       "</style>\n",
       "<table border=\"1\" class=\"dataframe\">\n",
       "  <thead>\n",
       "    <tr style=\"text-align: right;\">\n",
       "      <th></th>\n",
       "      <th>ts</th>\n",
       "      <th>uid</th>\n",
       "      <th>id.orig_h</th>\n",
       "      <th>id.orig_p</th>\n",
       "      <th>id.resp_p</th>\n",
       "      <th>name</th>\n",
       "      <th>addl</th>\n",
       "      <th>notice</th>\n",
       "      <th>peer</th>\n",
       "    </tr>\n",
       "  </thead>\n",
       "  <tbody>\n",
       "    <tr>\n",
       "      <th>1.331901e+09</th>\n",
       "      <td>None</td>\n",
       "      <td>None</td>\n",
       "      <td>None</td>\n",
       "      <td>None</td>\n",
       "      <td>None</td>\n",
       "      <td>unknown_protocol_88</td>\n",
       "      <td>None</td>\n",
       "      <td>F</td>\n",
       "      <td>bro</td>\n",
       "    </tr>\n",
       "    <tr>\n",
       "      <th>1.331901e+09</th>\n",
       "      <td>None</td>\n",
       "      <td>None</td>\n",
       "      <td>None</td>\n",
       "      <td>None</td>\n",
       "      <td>None</td>\n",
       "      <td>unknown_packet_type</td>\n",
       "      <td>None</td>\n",
       "      <td>F</td>\n",
       "      <td>bro</td>\n",
       "    </tr>\n",
       "    <tr>\n",
       "      <th>1.331901e+09</th>\n",
       "      <td>None</td>\n",
       "      <td>None</td>\n",
       "      <td>None</td>\n",
       "      <td>None</td>\n",
       "      <td>None</td>\n",
       "      <td>truncated_IP</td>\n",
       "      <td>None</td>\n",
       "      <td>F</td>\n",
       "      <td>bro</td>\n",
       "    </tr>\n",
       "    <tr>\n",
       "      <th>1.331901e+09</th>\n",
       "      <td>CFmfPp4lcYsETNSogj</td>\n",
       "      <td>192.168.202.79</td>\n",
       "      <td>50778</td>\n",
       "      <td>192.168.229.251</td>\n",
       "      <td>80</td>\n",
       "      <td>unescaped_special_URI_char</td>\n",
       "      <td>None</td>\n",
       "      <td>F</td>\n",
       "      <td>bro</td>\n",
       "    </tr>\n",
       "    <tr>\n",
       "      <th>1.331901e+09</th>\n",
       "      <td>CiYIRv2E6wmEieDlz3</td>\n",
       "      <td>192.168.202.79</td>\n",
       "      <td>50844</td>\n",
       "      <td>192.168.229.251</td>\n",
       "      <td>80</td>\n",
       "      <td>unescaped_special_URI_char</td>\n",
       "      <td>None</td>\n",
       "      <td>F</td>\n",
       "      <td>bro</td>\n",
       "    </tr>\n",
       "  </tbody>\n",
       "</table>\n",
       "</div>"
      ],
      "text/plain": [
       "                              ts             uid id.orig_h        id.orig_p  \\\n",
       "1.331901e+09                None            None      None             None   \n",
       "1.331901e+09                None            None      None             None   \n",
       "1.331901e+09                None            None      None             None   \n",
       "1.331901e+09  CFmfPp4lcYsETNSogj  192.168.202.79     50778  192.168.229.251   \n",
       "1.331901e+09  CiYIRv2E6wmEieDlz3  192.168.202.79     50844  192.168.229.251   \n",
       "\n",
       "             id.resp_p                        name  addl notice peer  \n",
       "1.331901e+09      None         unknown_protocol_88  None      F  bro  \n",
       "1.331901e+09      None         unknown_packet_type  None      F  bro  \n",
       "1.331901e+09      None                truncated_IP  None      F  bro  \n",
       "1.331901e+09        80  unescaped_special_URI_char  None      F  bro  \n",
       "1.331901e+09        80  unescaped_special_URI_char  None      F  bro  "
      ]
     },
     "execution_count": 24,
     "metadata": {},
     "output_type": "execute_result"
    }
   ],
   "source": [
    "df_clean = df.replace({'-': None})\n",
    "df_clean.head()"
   ]
  },
  {
   "cell_type": "code",
   "execution_count": 25,
   "metadata": {},
   "outputs": [
    {
     "name": "stdout",
     "output_type": "stream",
     "text": [
      "Data Quality Report\n"
     ]
    },
    {
     "data": {
      "text/html": [
       "<div>\n",
       "<style scoped>\n",
       "    .dataframe tbody tr th:only-of-type {\n",
       "        vertical-align: middle;\n",
       "    }\n",
       "\n",
       "    .dataframe tbody tr th {\n",
       "        vertical-align: top;\n",
       "    }\n",
       "\n",
       "    .dataframe thead th {\n",
       "        text-align: right;\n",
       "    }\n",
       "</style>\n",
       "<table border=\"1\" class=\"dataframe\">\n",
       "  <thead>\n",
       "    <tr style=\"text-align: right;\">\n",
       "      <th></th>\n",
       "      <th>Data Type</th>\n",
       "      <th>Count</th>\n",
       "      <th>Unique Values</th>\n",
       "      <th>Missing Values</th>\n",
       "    </tr>\n",
       "  </thead>\n",
       "  <tbody>\n",
       "    <tr>\n",
       "      <th>ts</th>\n",
       "      <td>object</td>\n",
       "      <td>65526</td>\n",
       "      <td>51651</td>\n",
       "      <td>457</td>\n",
       "    </tr>\n",
       "    <tr>\n",
       "      <th>uid</th>\n",
       "      <td>object</td>\n",
       "      <td>65526</td>\n",
       "      <td>221</td>\n",
       "      <td>457</td>\n",
       "    </tr>\n",
       "    <tr>\n",
       "      <th>id.orig_h</th>\n",
       "      <td>object</td>\n",
       "      <td>65526</td>\n",
       "      <td>25772</td>\n",
       "      <td>457</td>\n",
       "    </tr>\n",
       "    <tr>\n",
       "      <th>id.orig_p</th>\n",
       "      <td>object</td>\n",
       "      <td>65526</td>\n",
       "      <td>279</td>\n",
       "      <td>457</td>\n",
       "    </tr>\n",
       "    <tr>\n",
       "      <th>id.resp_p</th>\n",
       "      <td>object</td>\n",
       "      <td>65526</td>\n",
       "      <td>183</td>\n",
       "      <td>457</td>\n",
       "    </tr>\n",
       "    <tr>\n",
       "      <th>name</th>\n",
       "      <td>object</td>\n",
       "      <td>65983</td>\n",
       "      <td>50</td>\n",
       "      <td>0</td>\n",
       "    </tr>\n",
       "    <tr>\n",
       "      <th>addl</th>\n",
       "      <td>object</td>\n",
       "      <td>865</td>\n",
       "      <td>125</td>\n",
       "      <td>65118</td>\n",
       "    </tr>\n",
       "    <tr>\n",
       "      <th>notice</th>\n",
       "      <td>object</td>\n",
       "      <td>65983</td>\n",
       "      <td>1</td>\n",
       "      <td>0</td>\n",
       "    </tr>\n",
       "    <tr>\n",
       "      <th>peer</th>\n",
       "      <td>object</td>\n",
       "      <td>65983</td>\n",
       "      <td>1</td>\n",
       "      <td>0</td>\n",
       "    </tr>\n",
       "  </tbody>\n",
       "</table>\n",
       "</div>"
      ],
      "text/plain": [
       "          Data Type  Count Unique Values  Missing Values\n",
       "ts           object  65526         51651             457\n",
       "uid          object  65526           221             457\n",
       "id.orig_h    object  65526         25772             457\n",
       "id.orig_p    object  65526           279             457\n",
       "id.resp_p    object  65526           183             457\n",
       "name         object  65983            50               0\n",
       "addl         object    865           125           65118\n",
       "notice       object  65983             1               0\n",
       "peer         object  65983             1               0"
      ]
     },
     "execution_count": 25,
     "metadata": {},
     "output_type": "execute_result"
    }
   ],
   "source": [
    "#DataFrame with data types\n",
    "data_types = pd.DataFrame(df_clean.dtypes, columns=['Data Type'])\n",
    "\n",
    "#DataFrame with Count\n",
    "data_count = pd.DataFrame(df_clean.count(), columns=['Count'])\n",
    "\n",
    "#DataFrame with unique values\n",
    "unique_value_counts = pd.DataFrame(columns=['Unique Values'])\n",
    "for v in list(df_clean.columns.values):\n",
    "    unique_value_counts.loc[v] = [df_clean[v].nunique()]\n",
    "\n",
    "missing_data_counts = pd.DataFrame(df_clean.isnull().sum(), columns=['Missing Values'])\n",
    "data_quality_report = data_types.join(data_count).join(unique_value_counts).join(missing_data_counts)\n",
    "print('Data Quality Report')\n",
    "data_quality_report"
   ]
  },
  {
   "cell_type": "code",
   "execution_count": null,
   "metadata": {},
   "outputs": [],
   "source": []
  },
  {
   "cell_type": "code",
   "execution_count": null,
   "metadata": {},
   "outputs": [],
   "source": []
  }
 ],
 "metadata": {
  "kernelspec": {
   "display_name": "Python 3",
   "language": "python",
   "name": "python3"
  },
  "language_info": {
   "codemirror_mode": {
    "name": "ipython",
    "version": 3
   },
   "file_extension": ".py",
   "mimetype": "text/x-python",
   "name": "python",
   "nbconvert_exporter": "python",
   "pygments_lexer": "ipython3",
   "version": "3.7.3"
  }
 },
 "nbformat": 4,
 "nbformat_minor": 2
}
