{
 "cells": [
  {
   "cell_type": "markdown",
   "metadata": {},
   "source": [
    "# numpy\n",
    "NumPy is the fundamental package for scientific computing with Python. It contains among other things:\n",
    "\n",
    "* a powerful N-dimensional array object\n",
    "* sophisticated (broadcasting) functions\n",
    "* tools for integrating C/C++ and Fortran code\n",
    "* useful linear algebra, Fourier transform, and random number capabilities\n",
    "\n",
    "Besides its obvious scientific uses, NumPy can also be used as an efficient multi-dimensional container of generic data. Arbitrary data-types can be defined. This allows NumPy to seamlessly and speedily integrate with a wide variety of databases.\n",
    "\n",
    "NumPy is licensed under the BSD license, enabling reuse with few restrictions."
   ]
  },
  {
   "cell_type": "code",
   "execution_count": 1,
   "metadata": {},
   "outputs": [],
   "source": [
    "import numpy as np"
   ]
  },
  {
   "cell_type": "code",
   "execution_count": 2,
   "metadata": {},
   "outputs": [],
   "source": [
    "a = np.arange(15).reshape(3, 5)"
   ]
  },
  {
   "cell_type": "code",
   "execution_count": 3,
   "metadata": {},
   "outputs": [
    {
     "data": {
      "text/plain": [
       "array([[ 0,  1,  2,  3,  4],\n",
       "       [ 5,  6,  7,  8,  9],\n",
       "       [10, 11, 12, 13, 14]])"
      ]
     },
     "execution_count": 3,
     "metadata": {},
     "output_type": "execute_result"
    }
   ],
   "source": [
    "a"
   ]
  },
  {
   "cell_type": "code",
   "execution_count": 4,
   "metadata": {},
   "outputs": [
    {
     "data": {
      "text/plain": [
       "(3, 5)"
      ]
     },
     "execution_count": 4,
     "metadata": {},
     "output_type": "execute_result"
    }
   ],
   "source": [
    "a.shape"
   ]
  },
  {
   "cell_type": "code",
   "execution_count": 5,
   "metadata": {},
   "outputs": [
    {
     "data": {
      "text/plain": [
       "dtype('int64')"
      ]
     },
     "execution_count": 5,
     "metadata": {},
     "output_type": "execute_result"
    }
   ],
   "source": [
    "a.dtype"
   ]
  },
  {
   "cell_type": "code",
   "execution_count": 6,
   "metadata": {},
   "outputs": [
    {
     "data": {
      "text/plain": [
       "'int64'"
      ]
     },
     "execution_count": 6,
     "metadata": {},
     "output_type": "execute_result"
    }
   ],
   "source": [
    "a.dtype.name"
   ]
  },
  {
   "cell_type": "code",
   "execution_count": 7,
   "metadata": {},
   "outputs": [
    {
     "data": {
      "text/plain": [
       "array([0, 1, 2, 3, 4, 5, 6])"
      ]
     },
     "execution_count": 7,
     "metadata": {},
     "output_type": "execute_result"
    }
   ],
   "source": [
    "np.arange(7)"
   ]
  },
  {
   "cell_type": "code",
   "execution_count": 8,
   "metadata": {},
   "outputs": [
    {
     "data": {
      "text/plain": [
       "array([1, 2, 3, 4, 5, 6])"
      ]
     },
     "execution_count": 8,
     "metadata": {},
     "output_type": "execute_result"
    }
   ],
   "source": [
    "np.arange(1, 7)"
   ]
  },
  {
   "cell_type": "code",
   "execution_count": 9,
   "metadata": {},
   "outputs": [],
   "source": [
    "new_a = np.array([4,5,2,8,6,9,6,3])"
   ]
  },
  {
   "cell_type": "code",
   "execution_count": 10,
   "metadata": {},
   "outputs": [
    {
     "data": {
      "text/plain": [
       "array([4, 5, 2, 8, 6, 9, 6, 3])"
      ]
     },
     "execution_count": 10,
     "metadata": {},
     "output_type": "execute_result"
    }
   ],
   "source": [
    "new_a"
   ]
  },
  {
   "cell_type": "code",
   "execution_count": 11,
   "metadata": {},
   "outputs": [
    {
     "data": {
      "text/plain": [
       "(8,)"
      ]
     },
     "execution_count": 11,
     "metadata": {},
     "output_type": "execute_result"
    }
   ],
   "source": [
    "new_a.shape"
   ]
  },
  {
   "cell_type": "code",
   "execution_count": 12,
   "metadata": {},
   "outputs": [
    {
     "data": {
      "text/plain": [
       "43"
      ]
     },
     "execution_count": 12,
     "metadata": {},
     "output_type": "execute_result"
    }
   ],
   "source": [
    "new_a.sum()"
   ]
  },
  {
   "cell_type": "code",
   "execution_count": 13,
   "metadata": {},
   "outputs": [
    {
     "data": {
      "text/plain": [
       "2"
      ]
     },
     "execution_count": 13,
     "metadata": {},
     "output_type": "execute_result"
    }
   ],
   "source": [
    "new_a.min()"
   ]
  },
  {
   "cell_type": "code",
   "execution_count": 14,
   "metadata": {},
   "outputs": [
    {
     "data": {
      "text/plain": [
       "9"
      ]
     },
     "execution_count": 14,
     "metadata": {},
     "output_type": "execute_result"
    }
   ],
   "source": [
    "new_a.max()"
   ]
  },
  {
   "cell_type": "code",
   "execution_count": 15,
   "metadata": {},
   "outputs": [
    {
     "name": "stdout",
     "output_type": "stream",
     "text": [
      "[176, 155, 108, 87, 207, 358, 225, 310, 329, 217, 6, 93, 120, 166, 56, 57, 50, 217, 13, 232, 374, 250, 49, 391, 213, 31, 78, 53, 105, 256, 129, 357, 277, 395, 197, 132, 25, 317, 269, 95, 146, 32, 193, 45, 210, 324, 19, 251, 379, 168, 297, 285, 137, 256, 230, 37, 49, 205, 80, 219, 299, 389, 139, 157, 291, 115, 314, 23, 209, 282, 112, 236, 377, 206, 368, 252, 51, 261, 101, 336, 49, 33, 395, 272, 320, 374, 66, 104, 216, 108, 247, 66, 369, 100, 388, 73, 11, 396, 268, 278]\n"
     ]
    }
   ],
   "source": [
    "# create list of random numbers\n",
    "import random\n",
    "random_list = []\n",
    "for x in range(100):\n",
    "    random_list.append(random.randint(1, 400))\n",
    "print(random_list)"
   ]
  },
  {
   "cell_type": "code",
   "execution_count": 16,
   "metadata": {},
   "outputs": [],
   "source": [
    "numpy_random_builtin = np.random.random((100,))"
   ]
  },
  {
   "cell_type": "code",
   "execution_count": 17,
   "metadata": {},
   "outputs": [
    {
     "data": {
      "text/plain": [
       "array([2.73766078e-01, 4.94911062e-01, 8.56533428e-01, 1.88519473e-01,\n",
       "       4.17203569e-01, 7.92797607e-01, 7.33917075e-01, 8.47471550e-01,\n",
       "       5.10977075e-01, 4.48745268e-01, 1.68683458e-02, 6.78908983e-01,\n",
       "       6.06592498e-01, 9.77683591e-01, 8.15857973e-01, 5.96364040e-01,\n",
       "       4.20895251e-01, 7.03764400e-01, 9.56662537e-01, 5.17057475e-01,\n",
       "       6.79532351e-01, 2.57796104e-01, 1.13597750e-01, 5.89184140e-01,\n",
       "       2.97105263e-01, 9.22650627e-01, 3.68888390e-02, 6.52584823e-01,\n",
       "       9.57114544e-01, 3.74874268e-01, 9.13187445e-01, 6.41547841e-01,\n",
       "       5.73452801e-01, 8.44999813e-01, 5.65774438e-01, 1.80307190e-01,\n",
       "       2.98534754e-01, 5.35787728e-01, 4.91502856e-01, 9.24237291e-01,\n",
       "       5.39192137e-01, 7.13970442e-01, 2.65816482e-01, 2.18567808e-01,\n",
       "       1.49535047e-02, 1.99685118e-01, 2.89298486e-02, 3.97391303e-01,\n",
       "       6.57458981e-01, 7.31045102e-01, 7.16794076e-01, 8.80208317e-01,\n",
       "       6.59298938e-01, 6.38457756e-01, 9.66543588e-01, 9.23141658e-01,\n",
       "       7.81672266e-01, 5.43040213e-01, 9.17399683e-01, 7.09605290e-01,\n",
       "       3.48906932e-01, 5.70544388e-01, 8.45295482e-01, 1.83221386e-01,\n",
       "       9.85116426e-01, 5.48150176e-01, 7.94534553e-01, 9.64403873e-01,\n",
       "       5.74960596e-01, 7.37721386e-01, 7.22093129e-01, 9.82546027e-01,\n",
       "       2.98866336e-01, 1.33074749e-01, 3.40584406e-01, 2.47820520e-01,\n",
       "       3.41333788e-02, 7.73344819e-04, 8.06075033e-01, 8.14691835e-01,\n",
       "       7.55566688e-01, 7.90159981e-01, 6.02878145e-01, 8.14054334e-02,\n",
       "       1.41926914e-01, 9.27398543e-01, 3.04017648e-01, 5.39000179e-01,\n",
       "       1.69846312e-01, 4.50251315e-01, 6.93178138e-02, 4.22949241e-01,\n",
       "       7.58681822e-01, 1.93619499e-01, 8.82851238e-01, 2.38440950e-01,\n",
       "       4.90481630e-01, 8.36401689e-01, 4.14832928e-01, 3.95081436e-01])"
      ]
     },
     "execution_count": 17,
     "metadata": {},
     "output_type": "execute_result"
    }
   ],
   "source": [
    "numpy_random_builtin"
   ]
  },
  {
   "cell_type": "code",
   "execution_count": 18,
   "metadata": {},
   "outputs": [
    {
     "data": {
      "text/plain": [
       "array([2.73766078e+02, 4.94911062e+02, 8.56533428e+02, 1.88519473e+02,\n",
       "       4.17203569e+02, 7.92797607e+02, 7.33917075e+02, 8.47471550e+02,\n",
       "       5.10977075e+02, 4.48745268e+02, 1.68683458e+01, 6.78908983e+02,\n",
       "       6.06592498e+02, 9.77683591e+02, 8.15857973e+02, 5.96364040e+02,\n",
       "       4.20895251e+02, 7.03764400e+02, 9.56662537e+02, 5.17057475e+02,\n",
       "       6.79532351e+02, 2.57796104e+02, 1.13597750e+02, 5.89184140e+02,\n",
       "       2.97105263e+02, 9.22650627e+02, 3.68888390e+01, 6.52584823e+02,\n",
       "       9.57114544e+02, 3.74874268e+02, 9.13187445e+02, 6.41547841e+02,\n",
       "       5.73452801e+02, 8.44999813e+02, 5.65774438e+02, 1.80307190e+02,\n",
       "       2.98534754e+02, 5.35787728e+02, 4.91502856e+02, 9.24237291e+02,\n",
       "       5.39192137e+02, 7.13970442e+02, 2.65816482e+02, 2.18567808e+02,\n",
       "       1.49535047e+01, 1.99685118e+02, 2.89298486e+01, 3.97391303e+02,\n",
       "       6.57458981e+02, 7.31045102e+02, 7.16794076e+02, 8.80208317e+02,\n",
       "       6.59298938e+02, 6.38457756e+02, 9.66543588e+02, 9.23141658e+02,\n",
       "       7.81672266e+02, 5.43040213e+02, 9.17399683e+02, 7.09605290e+02,\n",
       "       3.48906932e+02, 5.70544388e+02, 8.45295482e+02, 1.83221386e+02,\n",
       "       9.85116426e+02, 5.48150176e+02, 7.94534553e+02, 9.64403873e+02,\n",
       "       5.74960596e+02, 7.37721386e+02, 7.22093129e+02, 9.82546027e+02,\n",
       "       2.98866336e+02, 1.33074749e+02, 3.40584406e+02, 2.47820520e+02,\n",
       "       3.41333788e+01, 7.73344819e-01, 8.06075033e+02, 8.14691835e+02,\n",
       "       7.55566688e+02, 7.90159981e+02, 6.02878145e+02, 8.14054334e+01,\n",
       "       1.41926914e+02, 9.27398543e+02, 3.04017648e+02, 5.39000179e+02,\n",
       "       1.69846312e+02, 4.50251315e+02, 6.93178138e+01, 4.22949241e+02,\n",
       "       7.58681822e+02, 1.93619499e+02, 8.82851238e+02, 2.38440950e+02,\n",
       "       4.90481630e+02, 8.36401689e+02, 4.14832928e+02, 3.95081436e+02])"
      ]
     },
     "execution_count": 18,
     "metadata": {},
     "output_type": "execute_result"
    }
   ],
   "source": [
    "numpy_random_builtin * 1000"
   ]
  },
  {
   "cell_type": "code",
   "execution_count": 19,
   "metadata": {},
   "outputs": [
    {
     "data": {
      "text/plain": [
       "array([2.73766078e-01, 4.94911062e-01, 8.56533428e-01, 1.88519473e-01,\n",
       "       4.17203569e-01, 7.92797607e-01, 7.33917075e-01, 8.47471550e-01,\n",
       "       5.10977075e-01, 4.48745268e-01, 1.68683458e-02, 6.78908983e-01,\n",
       "       6.06592498e-01, 9.77683591e-01, 8.15857973e-01, 5.96364040e-01,\n",
       "       4.20895251e-01, 7.03764400e-01, 9.56662537e-01, 5.17057475e-01,\n",
       "       6.79532351e-01, 2.57796104e-01, 1.13597750e-01, 5.89184140e-01,\n",
       "       2.97105263e-01, 9.22650627e-01, 3.68888390e-02, 6.52584823e-01,\n",
       "       9.57114544e-01, 3.74874268e-01, 9.13187445e-01, 6.41547841e-01,\n",
       "       5.73452801e-01, 8.44999813e-01, 5.65774438e-01, 1.80307190e-01,\n",
       "       2.98534754e-01, 5.35787728e-01, 4.91502856e-01, 9.24237291e-01,\n",
       "       5.39192137e-01, 7.13970442e-01, 2.65816482e-01, 2.18567808e-01,\n",
       "       1.49535047e-02, 1.99685118e-01, 2.89298486e-02, 3.97391303e-01,\n",
       "       6.57458981e-01, 7.31045102e-01, 7.16794076e-01, 8.80208317e-01,\n",
       "       6.59298938e-01, 6.38457756e-01, 9.66543588e-01, 9.23141658e-01,\n",
       "       7.81672266e-01, 5.43040213e-01, 9.17399683e-01, 7.09605290e-01,\n",
       "       3.48906932e-01, 5.70544388e-01, 8.45295482e-01, 1.83221386e-01,\n",
       "       9.85116426e-01, 5.48150176e-01, 7.94534553e-01, 9.64403873e-01,\n",
       "       5.74960596e-01, 7.37721386e-01, 7.22093129e-01, 9.82546027e-01,\n",
       "       2.98866336e-01, 1.33074749e-01, 3.40584406e-01, 2.47820520e-01,\n",
       "       3.41333788e-02, 7.73344819e-04, 8.06075033e-01, 8.14691835e-01,\n",
       "       7.55566688e-01, 7.90159981e-01, 6.02878145e-01, 8.14054334e-02,\n",
       "       1.41926914e-01, 9.27398543e-01, 3.04017648e-01, 5.39000179e-01,\n",
       "       1.69846312e-01, 4.50251315e-01, 6.93178138e-02, 4.22949241e-01,\n",
       "       7.58681822e-01, 1.93619499e-01, 8.82851238e-01, 2.38440950e-01,\n",
       "       4.90481630e-01, 8.36401689e-01, 4.14832928e-01, 3.95081436e-01])"
      ]
     },
     "execution_count": 19,
     "metadata": {},
     "output_type": "execute_result"
    }
   ],
   "source": [
    "numpy_random_builtin"
   ]
  },
  {
   "cell_type": "code",
   "execution_count": 20,
   "metadata": {},
   "outputs": [
    {
     "data": {
      "text/plain": [
       "array([2737, 4949, 8565, 1885, 4172, 7927, 7339, 8474, 5109, 4487,  168,\n",
       "       6789, 6065, 9776, 8158, 5963, 4208, 7037, 9566, 5170, 6795, 2577,\n",
       "       1135, 5891, 2971, 9226,  368, 6525, 9571, 3748, 9131, 6415, 5734,\n",
       "       8449, 5657, 1803, 2985, 5357, 4915, 9242, 5391, 7139, 2658, 2185,\n",
       "        149, 1996,  289, 3973, 6574, 7310, 7167, 8802, 6592, 6384, 9665,\n",
       "       9231, 7816, 5430, 9173, 7096, 3489, 5705, 8452, 1832, 9851, 5481,\n",
       "       7945, 9644, 5749, 7377, 7220, 9825, 2988, 1330, 3405, 2478,  341,\n",
       "          7, 8060, 8146, 7555, 7901, 6028,  814, 1419, 9273, 3040, 5390,\n",
       "       1698, 4502,  693, 4229, 7586, 1936, 8828, 2384, 4904, 8364, 4148,\n",
       "       3950])"
      ]
     },
     "execution_count": 20,
     "metadata": {},
     "output_type": "execute_result"
    }
   ],
   "source": [
    "np.asarray(numpy_random_builtin * 10000, dtype=int)"
   ]
  },
  {
   "cell_type": "code",
   "execution_count": null,
   "metadata": {},
   "outputs": [],
   "source": []
  },
  {
   "cell_type": "code",
   "execution_count": null,
   "metadata": {},
   "outputs": [],
   "source": []
  },
  {
   "cell_type": "code",
   "execution_count": null,
   "metadata": {},
   "outputs": [],
   "source": []
  }
 ],
 "metadata": {
  "kernelspec": {
   "display_name": "Python 3",
   "language": "python",
   "name": "python3"
  },
  "language_info": {
   "codemirror_mode": {
    "name": "ipython",
    "version": 3
   },
   "file_extension": ".py",
   "mimetype": "text/x-python",
   "name": "python",
   "nbconvert_exporter": "python",
   "pygments_lexer": "ipython3",
   "version": "3.7.3"
  }
 },
 "nbformat": 4,
 "nbformat_minor": 2
}
